{
 "cells": [
  {
   "cell_type": "code",
   "execution_count": 1,
   "metadata": {},
   "outputs": [
    {
     "name": "stderr",
     "output_type": "stream",
     "text": [
      "[nltk_data] Downloading package punkt to\n",
      "[nltk_data]     C:\\Users\\Eshanka\\AppData\\Roaming\\nltk_data...\n",
      "[nltk_data]   Package punkt is already up-to-date!\n"
     ]
    },
    {
     "data": {
      "text/plain": [
       "True"
      ]
     },
     "execution_count": 1,
     "metadata": {},
     "output_type": "execute_result"
    }
   ],
   "source": [
    "import gc\n",
    "import os\n",
    "import nltk\n",
    "import tqdm\n",
    "import numpy as np\n",
    "import pandas as pd\n",
    "nltk.download(\"punkt\")"
   ]
  },
  {
   "cell_type": "code",
   "execution_count": 2,
   "metadata": {},
   "outputs": [],
   "source": [
    "from keras.callbacks import Callback, EarlyStopping, ModelCheckpoint\n",
    "from keras.engine import Layer\n",
    "from keras.layers import Activation, Add, Bidirectional, Conv1D, Dense, Dropout, Embedding, Flatten\n",
    "from keras.layers import concatenate, GRU, Input, LSTM, MaxPooling1D\n",
    "from keras.backend import backend as K\n",
    "from keras.layers import GlobalAveragePooling1D,  GlobalMaxPooling1D, SpatialDropout1D\n",
    "from keras.models import Model\n",
    "from keras.optimizers import Adam\n",
    "from keras.preprocessing import text, sequence\n",
    "from sklearn.metrics import accuracy_score, roc_auc_score, log_loss\n",
    "from sklearn.model_selection import train_test_split\n",
    "from keras import initializers, regularizers, constraints, optimizers, layers, callbacks"
   ]
  },
  {
   "cell_type": "code",
   "execution_count": 3,
   "metadata": {},
   "outputs": [],
   "source": [
    "gru_len = 128\n",
    "Routings = 5\n",
    "Num_capsule = 10\n",
    "Dim_capsule = 16\n",
    "dropout_p = 0.3\n",
    "rate_drop_dense = 0.3"
   ]
  },
  {
   "cell_type": "code",
   "execution_count": 4,
   "metadata": {},
   "outputs": [],
   "source": [
    "def squash(x, axis=-1):\n",
    "    s_squared_norm = K.sum(K.square(x), axis, keepdims=True)\n",
    "    scale = K.sqrt(s_squared_norm + K.epsilon())\n",
    "    return x / scale"
   ]
  },
  {
   "cell_type": "code",
   "execution_count": 95,
   "metadata": {},
   "outputs": [
    {
     "name": "stdout",
     "output_type": "stream",
     "text": [
      "        isDGA                      domain                            host  \\\n",
      "0         dga  6xzxsw3sokvg1tc752y1a6p0af  6xzxsw3sokvg1tc752y1a6p0af.com   \n",
      "1         dga              glbtlxwwhbnpxs               glbtlxwwhbnpxs.ru   \n",
      "2         dga              xxmamopyipbfpk               xxmamopyipbfpk.ru   \n",
      "3         dga   zfd5szpi18i85wj9uy13l69rg   zfd5szpi18i85wj9uy13l69rg.net   \n",
      "4         dga                jpqftymiuver                 jpqftymiuver.ru   \n",
      "...       ...                         ...                             ...   \n",
      "159995  legit                     manhunt                     manhunt.net   \n",
      "159996  legit                      yupptv                      yupptv.com   \n",
      "159997  legit                    bbcmundo                    bbcmundo.com   \n",
      "159998  legit                   kanogames                   kanogames.com   \n",
      "159999  legit                   roadrover                    roadrover.cn   \n",
      "\n",
      "            subclass  \n",
      "0        gameoverdga  \n",
      "1       cryptolocker  \n",
      "2       cryptolocker  \n",
      "3             newgoz  \n",
      "4       cryptolocker  \n",
      "...              ...  \n",
      "159995         alexa  \n",
      "159996         alexa  \n",
      "159997         legit  \n",
      "159998         legit  \n",
      "159999         alexa  \n",
      "\n",
      "[160000 rows x 4 columns]\n"
     ]
    }
   ],
   "source": [
    "df = pd.read_csv('Datasets/dga_data.csv', sep = ',')\n",
    "df = pd.DataFrame(df)\n",
    "print(df)"
   ]
  },
  {
   "cell_type": "markdown",
   "metadata": {},
   "source": []
  }
 ],
 "metadata": {
  "interpreter": {
   "hash": "463e569dd19ea3c226f6c8f6e67df6be81ddf2551be5ba537ffeabae906a0f83"
  },
  "kernelspec": {
   "display_name": "Python 3.8.11 64-bit ('IITMLsesh': conda)",
   "language": "python",
   "name": "python3"
  },
  "language_info": {
   "codemirror_mode": {
    "name": "ipython",
    "version": 3
   },
   "file_extension": ".py",
   "mimetype": "text/x-python",
   "name": "python",
   "nbconvert_exporter": "python",
   "pygments_lexer": "ipython3",
   "version": "3.8.11"
  },
  "orig_nbformat": 4
 },
 "nbformat": 4,
 "nbformat_minor": 2
}
